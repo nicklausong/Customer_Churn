{
 "cells": [
  {
   "cell_type": "markdown",
   "metadata": {},
   "source": [
    "## Training of models\n",
    "1. Bagging\n",
    "2. Random Forest\n",
    "3. Adaboost\n",
    "4. Logistic Regression <br>\n",
    "    i.  L1 Regularization <br>\n",
    "    ii. L2 Regulatization"
   ]
  },
  {
   "cell_type": "code",
   "execution_count": 1,
   "metadata": {},
   "outputs": [],
   "source": [
    "import pandas as pd\n",
    "import numpy as np\n",
    "from pandas.plotting import scatter_matrix\n",
    "import matplotlib.pyplot as plt\n",
    "import seaborn as sns\n",
    "import math\n",
    "from copy import deepcopy\n",
    "%matplotlib inline\n",
    "import warnings\n",
    "warnings.filterwarnings(\"ignore\", category=FutureWarning)"
   ]
  },
  {
   "cell_type": "code",
   "execution_count": 2,
   "metadata": {},
   "outputs": [],
   "source": [
    "df = pd.read_csv(\"churn_processed.csv\")"
   ]
  },
  {
   "cell_type": "code",
   "execution_count": 3,
   "metadata": {},
   "outputs": [
    {
     "data": {
      "text/html": [
       "<div>\n",
       "<style scoped>\n",
       "    .dataframe tbody tr th:only-of-type {\n",
       "        vertical-align: middle;\n",
       "    }\n",
       "\n",
       "    .dataframe tbody tr th {\n",
       "        vertical-align: top;\n",
       "    }\n",
       "\n",
       "    .dataframe thead th {\n",
       "        text-align: right;\n",
       "    }\n",
       "</style>\n",
       "<table border=\"1\" class=\"dataframe\">\n",
       "  <thead>\n",
       "    <tr style=\"text-align: right;\">\n",
       "      <th></th>\n",
       "      <th>Unnamed: 0</th>\n",
       "      <th>customerID</th>\n",
       "      <th>gender</th>\n",
       "      <th>SeniorCitizen</th>\n",
       "      <th>Partner</th>\n",
       "      <th>Dependents</th>\n",
       "      <th>tenure</th>\n",
       "      <th>PhoneService</th>\n",
       "      <th>PaperlessBilling</th>\n",
       "      <th>MonthlyCharges</th>\n",
       "      <th>...</th>\n",
       "      <th>StreamingMovies_No</th>\n",
       "      <th>StreamingMovies_No internet service</th>\n",
       "      <th>StreamingMovies_Yes</th>\n",
       "      <th>Contract_Month-to-month</th>\n",
       "      <th>Contract_One year</th>\n",
       "      <th>Contract_Two year</th>\n",
       "      <th>PaymentMethod_Bank transfer (automatic)</th>\n",
       "      <th>PaymentMethod_Credit card (automatic)</th>\n",
       "      <th>PaymentMethod_Electronic check</th>\n",
       "      <th>PaymentMethod_Mailed check</th>\n",
       "    </tr>\n",
       "  </thead>\n",
       "  <tbody>\n",
       "    <tr>\n",
       "      <th>0</th>\n",
       "      <td>0</td>\n",
       "      <td>7590-VHVEG</td>\n",
       "      <td>0</td>\n",
       "      <td>0</td>\n",
       "      <td>1</td>\n",
       "      <td>0</td>\n",
       "      <td>0.000000</td>\n",
       "      <td>0</td>\n",
       "      <td>1</td>\n",
       "      <td>0.115423</td>\n",
       "      <td>...</td>\n",
       "      <td>1</td>\n",
       "      <td>0</td>\n",
       "      <td>0</td>\n",
       "      <td>1</td>\n",
       "      <td>0</td>\n",
       "      <td>0</td>\n",
       "      <td>0</td>\n",
       "      <td>0</td>\n",
       "      <td>1</td>\n",
       "      <td>0</td>\n",
       "    </tr>\n",
       "    <tr>\n",
       "      <th>1</th>\n",
       "      <td>1</td>\n",
       "      <td>5575-GNVDE</td>\n",
       "      <td>1</td>\n",
       "      <td>0</td>\n",
       "      <td>0</td>\n",
       "      <td>0</td>\n",
       "      <td>0.464789</td>\n",
       "      <td>1</td>\n",
       "      <td>0</td>\n",
       "      <td>0.385075</td>\n",
       "      <td>...</td>\n",
       "      <td>1</td>\n",
       "      <td>0</td>\n",
       "      <td>0</td>\n",
       "      <td>0</td>\n",
       "      <td>1</td>\n",
       "      <td>0</td>\n",
       "      <td>0</td>\n",
       "      <td>0</td>\n",
       "      <td>0</td>\n",
       "      <td>1</td>\n",
       "    </tr>\n",
       "    <tr>\n",
       "      <th>2</th>\n",
       "      <td>2</td>\n",
       "      <td>3668-QPYBK</td>\n",
       "      <td>1</td>\n",
       "      <td>0</td>\n",
       "      <td>0</td>\n",
       "      <td>0</td>\n",
       "      <td>0.014085</td>\n",
       "      <td>1</td>\n",
       "      <td>1</td>\n",
       "      <td>0.354229</td>\n",
       "      <td>...</td>\n",
       "      <td>1</td>\n",
       "      <td>0</td>\n",
       "      <td>0</td>\n",
       "      <td>1</td>\n",
       "      <td>0</td>\n",
       "      <td>0</td>\n",
       "      <td>0</td>\n",
       "      <td>0</td>\n",
       "      <td>0</td>\n",
       "      <td>1</td>\n",
       "    </tr>\n",
       "    <tr>\n",
       "      <th>3</th>\n",
       "      <td>3</td>\n",
       "      <td>7795-CFOCW</td>\n",
       "      <td>1</td>\n",
       "      <td>0</td>\n",
       "      <td>0</td>\n",
       "      <td>0</td>\n",
       "      <td>0.619718</td>\n",
       "      <td>0</td>\n",
       "      <td>0</td>\n",
       "      <td>0.239303</td>\n",
       "      <td>...</td>\n",
       "      <td>1</td>\n",
       "      <td>0</td>\n",
       "      <td>0</td>\n",
       "      <td>0</td>\n",
       "      <td>1</td>\n",
       "      <td>0</td>\n",
       "      <td>1</td>\n",
       "      <td>0</td>\n",
       "      <td>0</td>\n",
       "      <td>0</td>\n",
       "    </tr>\n",
       "    <tr>\n",
       "      <th>4</th>\n",
       "      <td>4</td>\n",
       "      <td>9237-HQITU</td>\n",
       "      <td>0</td>\n",
       "      <td>0</td>\n",
       "      <td>0</td>\n",
       "      <td>0</td>\n",
       "      <td>0.014085</td>\n",
       "      <td>1</td>\n",
       "      <td>1</td>\n",
       "      <td>0.521891</td>\n",
       "      <td>...</td>\n",
       "      <td>1</td>\n",
       "      <td>0</td>\n",
       "      <td>0</td>\n",
       "      <td>1</td>\n",
       "      <td>0</td>\n",
       "      <td>0</td>\n",
       "      <td>0</td>\n",
       "      <td>0</td>\n",
       "      <td>1</td>\n",
       "      <td>0</td>\n",
       "    </tr>\n",
       "  </tbody>\n",
       "</table>\n",
       "<p>5 rows × 43 columns</p>\n",
       "</div>"
      ],
      "text/plain": [
       "   Unnamed: 0  customerID  gender  SeniorCitizen  Partner  Dependents  \\\n",
       "0           0  7590-VHVEG       0              0        1           0   \n",
       "1           1  5575-GNVDE       1              0        0           0   \n",
       "2           2  3668-QPYBK       1              0        0           0   \n",
       "3           3  7795-CFOCW       1              0        0           0   \n",
       "4           4  9237-HQITU       0              0        0           0   \n",
       "\n",
       "     tenure  PhoneService  PaperlessBilling  MonthlyCharges  \\\n",
       "0  0.000000             0                 1        0.115423   \n",
       "1  0.464789             1                 0        0.385075   \n",
       "2  0.014085             1                 1        0.354229   \n",
       "3  0.619718             0                 0        0.239303   \n",
       "4  0.014085             1                 1        0.521891   \n",
       "\n",
       "              ...              StreamingMovies_No  \\\n",
       "0             ...                               1   \n",
       "1             ...                               1   \n",
       "2             ...                               1   \n",
       "3             ...                               1   \n",
       "4             ...                               1   \n",
       "\n",
       "   StreamingMovies_No internet service  StreamingMovies_Yes  \\\n",
       "0                                    0                    0   \n",
       "1                                    0                    0   \n",
       "2                                    0                    0   \n",
       "3                                    0                    0   \n",
       "4                                    0                    0   \n",
       "\n",
       "   Contract_Month-to-month  Contract_One year  Contract_Two year  \\\n",
       "0                        1                  0                  0   \n",
       "1                        0                  1                  0   \n",
       "2                        1                  0                  0   \n",
       "3                        0                  1                  0   \n",
       "4                        1                  0                  0   \n",
       "\n",
       "   PaymentMethod_Bank transfer (automatic)  \\\n",
       "0                                        0   \n",
       "1                                        0   \n",
       "2                                        0   \n",
       "3                                        1   \n",
       "4                                        0   \n",
       "\n",
       "   PaymentMethod_Credit card (automatic)  PaymentMethod_Electronic check  \\\n",
       "0                                      0                               1   \n",
       "1                                      0                               0   \n",
       "2                                      0                               0   \n",
       "3                                      0                               0   \n",
       "4                                      0                               1   \n",
       "\n",
       "   PaymentMethod_Mailed check  \n",
       "0                           0  \n",
       "1                           1  \n",
       "2                           1  \n",
       "3                           0  \n",
       "4                           0  \n",
       "\n",
       "[5 rows x 43 columns]"
      ]
     },
     "execution_count": 3,
     "metadata": {},
     "output_type": "execute_result"
    }
   ],
   "source": [
    "df.head(5)"
   ]
  },
  {
   "cell_type": "code",
   "execution_count": 4,
   "metadata": {},
   "outputs": [],
   "source": [
    "df = df.drop('Unnamed: 0', axis = 1)\n",
    "df = df.fillna(0)"
   ]
  },
  {
   "cell_type": "code",
   "execution_count": 5,
   "metadata": {},
   "outputs": [
    {
     "name": "stdout",
     "output_type": "stream",
     "text": [
      "['gender', 'SeniorCitizen', 'Partner', 'Dependents', 'tenure', 'PhoneService', 'PaperlessBilling', 'MonthlyCharges', 'TotalCharges', 'MultipleLines_No', 'MultipleLines_No phone service', 'MultipleLines_Yes', 'InternetService_DSL', 'InternetService_Fiber optic', 'InternetService_No', 'OnlineSecurity_No', 'OnlineSecurity_No internet service', 'OnlineSecurity_Yes', 'OnlineBackup_No', 'OnlineBackup_No internet service', 'OnlineBackup_Yes', 'DeviceProtection_No', 'DeviceProtection_No internet service', 'DeviceProtection_Yes', 'TechSupport_No', 'TechSupport_No internet service', 'TechSupport_Yes', 'StreamingTV_No', 'StreamingTV_No internet service', 'StreamingTV_Yes', 'StreamingMovies_No', 'StreamingMovies_No internet service', 'StreamingMovies_Yes', 'Contract_Month-to-month', 'Contract_One year', 'Contract_Two year', 'PaymentMethod_Bank transfer (automatic)', 'PaymentMethod_Credit card (automatic)', 'PaymentMethod_Electronic check', 'PaymentMethod_Mailed check']\n"
     ]
    }
   ],
   "source": [
    "variables = list(df.columns)\n",
    "variables.remove('customerID')\n",
    "variables.remove('Churn')\n",
    "print(variables)"
   ]
  },
  {
   "cell_type": "code",
   "execution_count": 6,
   "metadata": {},
   "outputs": [],
   "source": [
    "from sklearn import datasets\n",
    "from sklearn.model_selection import train_test_split\n",
    "from sklearn import tree\n",
    "from sklearn.metrics import accuracy_score, f1_score, precision_score, recall_score, classification_report, confusion_matrix, roc_auc_score\n",
    "from sklearn.model_selection import StratifiedKFold, cross_val_score\n",
    "from sklearn.ensemble import BaggingClassifier, RandomForestClassifier, AdaBoostClassifier\n",
    "from sklearn.metrics import roc_curve, auc\n",
    "from sklearn.linear_model import LogisticRegression\n",
    "import random"
   ]
  },
  {
   "cell_type": "code",
   "execution_count": 7,
   "metadata": {},
   "outputs": [],
   "source": [
    "import itertools\n",
    "import numpy as np\n",
    "import matplotlib.pyplot as plt\n",
    "\n",
    "from sklearn import svm, datasets\n",
    "from sklearn.model_selection import train_test_split\n",
    "from sklearn.metrics import confusion_matrix\n",
    "\n",
    "def plot_confusion_matrix(cm, classes,\n",
    "                          normalize=False,\n",
    "                          title='Confusion matrix',\n",
    "                          cmap=plt.cm.Blues):\n",
    "    \"\"\"\n",
    "    This function prints and plots the confusion matrix.\n",
    "    Normalization can be applied by setting `normalize=True`.\n",
    "    \"\"\"\n",
    "    if normalize:\n",
    "        cm = cm.astype('float') / cm.sum(axis=1)[:, np.newaxis]\n",
    "        print(\"Normalized confusion matrix\")\n",
    "    else:\n",
    "        print('Confusion matrix, without normalization')\n",
    "\n",
    "    print(cm)\n",
    "\n",
    "    plt.imshow(cm, interpolation='nearest', cmap=cmap)\n",
    "    plt.title(title)\n",
    "    plt.colorbar()\n",
    "    tick_marks = np.arange(len(classes))\n",
    "    plt.xticks(tick_marks, classes, rotation=45)\n",
    "    plt.yticks(tick_marks, classes)\n",
    "\n",
    "    fmt = '.2f' if normalize else 'd'\n",
    "    thresh = cm.max() / 2.\n",
    "    for i, j in itertools.product(range(cm.shape[0]), range(cm.shape[1])):\n",
    "        plt.text(j, i, format(cm[i, j], fmt),\n",
    "                 horizontalalignment=\"center\",\n",
    "                 color=\"white\" if cm[i, j] > thresh else \"black\")\n",
    "\n",
    "    plt.ylabel('True label')\n",
    "    plt.xlabel('Predicted label')\n",
    "    plt.tight_layout()"
   ]
  },
  {
   "cell_type": "code",
   "execution_count": 9,
   "metadata": {},
   "outputs": [],
   "source": [
    "kfold_perf = {}\n",
    "train_test_perf = {}\n",
    "all_models = []\n",
    "variables = df.columns\n",
    "variables = variables.drop(\"Churn\")\n",
    "variables = variables.drop('customerID')"
   ]
  },
  {
   "cell_type": "code",
   "execution_count": 8,
   "metadata": {},
   "outputs": [],
   "source": [
    "kf = StratifiedKFold(n_splits=5, random_state=12345)"
   ]
  },
  {
   "cell_type": "markdown",
   "metadata": {},
   "source": [
    "## Bagging"
   ]
  },
  {
   "cell_type": "code",
   "execution_count": 10,
   "metadata": {},
   "outputs": [
    {
     "name": "stdout",
     "output_type": "stream",
     "text": [
      "Confusion matrix, without normalization\n",
      "[[1343  190]\n",
      " [ 332  245]]\n",
      "[[1343  190]\n",
      " [ 332  245]]\n",
      "Accuracy:  0.75260663507109\n",
      "Area Under Curve Score : 0.650335032519691\n",
      "Sensitivity : 0.4246100519930676\n"
     ]
    },
    {
     "data": {
      "image/png": "[encoded data removed]",
      "text/plain": [
       "<Figure size 432x288 with 2 Axes>"
      ]
     },
     "metadata": {
      "needs_background": "light"
     },
     "output_type": "display_data"
    }
   ],
   "source": [
    "X = df[variables]\n",
    "y = df.Churn\n",
    "\n",
    "X_train, X_test, y_train, y_test = train_test_split(X, y, test_size=0.3, random_state=12345)\n",
    "\n",
    "# Fit Bagging Model; A bundle of decision trees\n",
    "# Just wait a minute...It will take some time\n",
    "BA = BaggingClassifier(n_estimators=100, random_state=12345)\n",
    "BA_model = BA.fit(X_train, y_train)\n",
    "BA_model.classes_\n",
    "# Validation\n",
    "y_pred = BA_model.predict(X_test)\n",
    "\n",
    "all_models += [[\"Bagging\", BA_model]]\n",
    "\n",
    "# Performance of decision tree model\n",
    "cm = confusion_matrix(y_test, y_pred)\n",
    "plot_confusion_matrix(cm, [0,1])\n",
    "print(cm)\n",
    "print(\"Accuracy: \", accuracy_score(y_test, y_pred))\n",
    "print(\"Area Under Curve Score : \" + str(roc_auc_score(y_test,y_pred)))\n",
    "print(\"Sensitivity :\", recall_score(y_test,y_pred))\n",
    "train_test_perf[\"Bagging\"] = {accuracy_score(y_test, y_pred), roc_auc_score(y_test,y_pred), recall_score(y_test,y_pred)}"
   ]
  },
  {
   "cell_type": "code",
   "execution_count": 11,
   "metadata": {},
   "outputs": [
    {
     "name": "stdout",
     "output_type": "stream",
     "text": [
      "Bagging model: 0.7983912607591255\n"
     ]
    }
   ],
   "source": [
    "# Model 2: Bagging method\n",
    "bagging = BaggingClassifier(n_estimators=100, random_state=12345)\n",
    "\n",
    "# Cross validation on Model 2\n",
    "cv_model_2 = cross_val_score(bagging, # Cross-validation on Model 2\n",
    "                             X_train, # Feature matrix\n",
    "                             y_train, # Output vector\n",
    "                             cv=kf, # Cross-validation technique\n",
    "                             scoring='roc_auc' # Model performance metrics: accuracy\n",
    "                            )\n",
    "\n",
    "# Report performance of Model 2\n",
    "print(\"Bagging model: %s\" %(cv_model_2.mean()))\n",
    "kfold_perf[\"Bagging\"] = cv_model_2.mean()"
   ]
  },
  {
   "cell_type": "markdown",
   "metadata": {},
   "source": [
    "## Random Forest"
   ]
  },
  {
   "cell_type": "code",
   "execution_count": 12,
   "metadata": {},
   "outputs": [
    {
     "name": "stdout",
     "output_type": "stream",
     "text": [
      "Confusion matrix, without normalization\n",
      "[[1367  166]\n",
      " [ 343  234]]\n",
      "[[1367  166]\n",
      " [ 343  234]]\n",
      "Accuracy:  0.7587677725118483\n",
      "Area Under Curve Score : 0.6486307587777164\n",
      "Sensitivity : 0.4055459272097054\n"
     ]
    },
    {
     "data": {
      "image/png": "[encoded data removed]",
      "text/plain": [
       "<Figure size 432x288 with 2 Axes>"
      ]
     },
     "metadata": {
      "needs_background": "light"
     },
     "output_type": "display_data"
    }
   ],
   "source": [
    "RF = RandomForestClassifier(criterion='entropy', n_estimators=100, random_state=12345)\n",
    "RF_model = RF.fit(X_train, y_train)\n",
    "RF_model.classes_\n",
    "# Validation\n",
    "y_pred = RF_model.predict(X_test)\n",
    "\n",
    "all_models += [[\"Random Forest\", RF_model]]\n",
    "\n",
    "# Performance of decision tree model\n",
    "cm = confusion_matrix(y_test, y_pred)\n",
    "plot_confusion_matrix(cm, [0,1])\n",
    "print(cm)\n",
    "print(\"Accuracy: \", accuracy_score(y_test, y_pred))\n",
    "print(\"Area Under Curve Score : \" + str(roc_auc_score(y_test,y_pred)))\n",
    "print(\"Sensitivity :\", recall_score(y_test,y_pred))\n",
    "train_test_perf[\"Random Forest\"] = {accuracy_score(y_test, y_pred), roc_auc_score(y_test,y_pred), recall_score(y_test,y_pred)}"
   ]
  },
  {
   "cell_type": "code",
   "execution_count": 13,
   "metadata": {},
   "outputs": [
    {
     "name": "stdout",
     "output_type": "stream",
     "text": [
      "Random Forest model: 0.8057210563024517\n"
     ]
    }
   ],
   "source": [
    "# Model 3: Random Forest method\n",
    "random_forest = RandomForestClassifier(criterion='entropy', n_estimators=100, random_state=12345)\n",
    "\n",
    "# Cross validation on Model 3\n",
    "cv_model_3 = cross_val_score(random_forest, # Cross-validation on Model 3\n",
    "                             X_train, # Feature matrix\n",
    "                             y_train, # Output vector\n",
    "                             cv=kf, # Cross-validation technique\n",
    "                             scoring='roc_auc' # Model performance metrics: roc\n",
    "                            )\n",
    "\n",
    "# Report performance of Model 3\n",
    "print(\"Random Forest model: %s\" %(cv_model_3.mean()))\n",
    "kfold_perf[\"Random Forest\"] = cv_model_3.mean()"
   ]
  },
  {
   "cell_type": "markdown",
   "metadata": {},
   "source": [
    "## AdaBoosting"
   ]
  },
  {
   "cell_type": "code",
   "execution_count": 14,
   "metadata": {},
   "outputs": [
    {
     "name": "stdout",
     "output_type": "stream",
     "text": [
      "[[1367  166]\n",
      " [ 291  286]]\n",
      "Confusion matrix, without normalization\n",
      "[[1367  166]\n",
      " [ 291  286]]\n",
      "Accuracy:  0.7834123222748816\n",
      "Area Under Curve Score : 0.6936914173565726\n",
      "Sensitivity : 0.49566724436741766\n"
     ]
    },
    {
     "data": {
      "image/png": "[encoded data removed]",
      "text/plain": [
       "<Figure size 432x288 with 2 Axes>"
      ]
     },
     "metadata": {
      "needs_background": "light"
     },
     "output_type": "display_data"
    }
   ],
   "source": [
    "Ada = AdaBoostClassifier(n_estimators=100, random_state=12345)\n",
    "Ada_model = Ada.fit(X_train, y_train)\n",
    "Ada_model.classes_\n",
    "y_pred = Ada_model.predict(X_test)\n",
    "\n",
    "all_models += [[\"AdaBoost\", Ada_model]]\n",
    "\n",
    "# Performance of decision tree model\n",
    "cm = confusion_matrix(y_test, y_pred)\n",
    "print(cm)\n",
    "plot_confusion_matrix(cm, [0,1])\n",
    "print(\"Accuracy: \", accuracy_score(y_test, y_pred))\n",
    "print(\"Area Under Curve Score : \" + str(roc_auc_score(y_test,y_pred)))\n",
    "print(\"Sensitivity :\", recall_score(y_test,y_pred))\n",
    "train_test_perf[\"Adaboosting\"] = {accuracy_score(y_test, y_pred), roc_auc_score(y_test,y_pred), recall_score(y_test,y_pred)}"
   ]
  },
  {
   "cell_type": "code",
   "execution_count": 15,
   "metadata": {},
   "outputs": [
    {
     "name": "stdout",
     "output_type": "stream",
     "text": [
      "AdaBoosting model: 0.8152369916111988\n"
     ]
    }
   ],
   "source": [
    "# Model 4: AdaBoosting method\n",
    "Adaboost = AdaBoostClassifier(n_estimators=100, random_state=12345)\n",
    "\n",
    "# Cross validation on Model 4\n",
    "cv_model_4 = cross_val_score(Adaboost, # Cross-validation on Model 4\n",
    "                             X_train, # Feature matrix\n",
    "                              y_train, # Output vector\n",
    "                             cv=kf, # Cross-validation technique\n",
    "                             scoring='roc_auc' # Model performance metrics: roc\n",
    "                            )\n",
    "\n",
    "# Report performance of Model 4\n",
    "print(\"AdaBoosting model: %s\" %(cv_model_4.mean()))\n",
    "kfold_perf[\"AdaBoosting\"] = cv_model_4.mean()"
   ]
  },
  {
   "cell_type": "markdown",
   "metadata": {},
   "source": [
    "# Logistic Regression (Best Performing)"
   ]
  },
  {
   "cell_type": "code",
   "execution_count": 17,
   "metadata": {},
   "outputs": [
    {
     "name": "stdout",
     "output_type": "stream",
     "text": [
      "[[1371  162]\n",
      " [ 272  305]]\n",
      "Confusion matrix, without normalization\n",
      "[[1371  162]\n",
      " [ 272  305]]\n",
      "Accuracy:  0.7943127962085308\n",
      "Area Under Curve Score : 0.711460520202003\n",
      "Sensitivity : 0.5285961871750433\n"
     ]
    },
    {
     "data": {
      "image/png": "[encoded data removed]",
      "text/plain": [
       "<Figure size 432x288 with 2 Axes>"
      ]
     },
     "metadata": {
      "needs_background": "light"
     },
     "output_type": "display_data"
    }
   ],
   "source": [
    "lr = LogisticRegression(fit_intercept=True, max_iter=1000, tol=2e-9, penalty='l1', C=100, random_state=0)\n",
    "lr.fit(X=X_train, y=y_train)\n",
    "y_pred = lr.predict(X_test)\n",
    "\n",
    "all_models += [[\"LogRegress 1\", lr]]\n",
    "\n",
    "cm = confusion_matrix(y_test, y_pred)\n",
    "print(cm)\n",
    "plot_confusion_matrix(cm, [0,1])\n",
    "print(\"Accuracy: \", accuracy_score(y_test, y_pred))\n",
    "print(\"Area Under Curve Score : \" + str(roc_auc_score(y_test,y_pred)))\n",
    "print(\"Sensitivity :\", recall_score(y_test,y_pred))\n",
    "train_test_perf[\"LogRegress1\"] = {accuracy_score(y_test, y_pred), roc_auc_score(y_test,y_pred), recall_score(y_test,y_pred)}"
   ]
  },
  {
   "cell_type": "code",
   "execution_count": 16,
   "metadata": {},
   "outputs": [
    {
     "name": "stdout",
     "output_type": "stream",
     "text": [
      "Confusion matrix, without normalization\n",
      "[[1372  161]\n",
      " [ 272  305]]\n",
      "[[1372  161]\n",
      " [ 272  305]]\n",
      "Accuracy:  0.79478672985782\n",
      "Area Under Curve Score : 0.7117866780624075\n",
      "Sensitivity : 0.5285961871750433\n"
     ]
    },
    {
     "data": {
      "image/png": "[encoded data removed]",
      "text/plain": [
       "<Figure size 432x288 with 2 Axes>"
      ]
     },
     "metadata": {
      "needs_background": "light"
     },
     "output_type": "display_data"
    }
   ],
   "source": [
    "lr = LogisticRegression(fit_intercept=True, max_iter=1000, tol=2e-9, penalty='l2', C=100, random_state=0)\n",
    "lr.fit(X=X_train, y=y_train)\n",
    "y_pred = lr.predict(X_test)\n",
    "\n",
    "all_models += [[\"LogRegress 2\", lr]]\n",
    "\n",
    "cm = confusion_matrix(y_test, y_pred)\n",
    "plot_confusion_matrix(cm, [0,1])\n",
    "print(cm)\n",
    "print(\"Accuracy: \", accuracy_score(y_test, y_pred))\n",
    "print(\"Area Under Curve Score : \" + str(roc_auc_score(y_test,y_pred)))\n",
    "print(\"Sensitivity :\", recall_score(y_test,y_pred))\n",
    "train_test_perf[\"LogRegress2\"] = {accuracy_score(y_test, y_pred), roc_auc_score(y_test,y_pred), recall_score(y_test,y_pred)}"
   ]
  },
  {
   "cell_type": "code",
   "execution_count": 18,
   "metadata": {},
   "outputs": [
    {
     "name": "stdout",
     "output_type": "stream",
     "text": [
      "Average accuracy Model 1 : 0.8289215384352806\n",
      "Average accuracy Model 2 : 0.8289236698327607\n"
     ]
    }
   ],
   "source": [
    "# Model 1: Logistic regression with L2 regularization\n",
    "model_L1 = LogisticRegression(fit_intercept=True, max_iter=1000, tol=2e-9, penalty='l2', C=100, random_state=12345)\n",
    "\n",
    "# Model 2: Logistic regression with L1 regularization (Let's use the same parameter values as Model 1, except penalty)\n",
    "model_L2 = LogisticRegression(fit_intercept=True, max_iter=1000, tol=2e-9, penalty='l1', C=100, random_state=12345)\n",
    "\n",
    "# Cross-validation on Model 1\n",
    "cv_model_5 = cross_val_score(model_L1, # Cross-validation on model_5\n",
    "                             X_train, # Feature matrix\n",
    "                             y_train, # Output vector\n",
    "                             cv=kf, # Cross-validation technique\n",
    "                             scoring='roc_auc' # Model performance metrics: roc\n",
    "                            )\n",
    "\n",
    "# Cross-validation on Model 2\n",
    "cv_model_6 = cross_val_score(model_L2, # Cross-validation on model_6\n",
    "                             X_train, # Feature matrix\n",
    "                             y_train, # Output vector\n",
    "                             cv=kf, # Cross-validation technique\n",
    "                             scoring='roc_auc' # Model performance metrics: r0c\n",
    "                            )\n",
    "\n",
    "# Report average cross-validation accuracy of Model 1\n",
    "print(\"Average accuracy Model 1 : \" + str(np.mean(cv_model_5)))\n",
    "kfold_perf[\"LogRegress_L1\"] = cv_model_5.mean()\n",
    "\n",
    "# Report average cross-validation accuracy of Model 2\n",
    "print(\"Average accuracy Model 2 : \" + str(np.mean(cv_model_6)))\n",
    "kfold_perf[\"LogRegress_L2\"] = cv_model_6.mean()"
   ]
  },
  {
   "cell_type": "code",
   "execution_count": 19,
   "metadata": {},
   "outputs": [
    {
     "name": "stdout",
     "output_type": "stream",
     "text": [
      "Baseline Model prediction accuracy is :0.7342150170648465\n",
      "Baseline Model is what is achieved when all the data is predicted as No Churn\n",
      "\n",
      "{'Bagging': 0.7983912607591255, 'Random Forest': 0.8057210563024517, 'AdaBoosting': 0.8152369916111988, 'LogRegress_L1': 0.8289215384352806, 'LogRegress_L2': 0.8289236698327607}\n",
      "\n",
      "Accuracy AUC Sensitivity\n",
      "Bagging {0.75260663507109, 0.650335032519691, 0.4246100519930676}\n",
      "Random Forest {0.7587677725118483, 0.6486307587777164, 0.4055459272097054}\n",
      "Adaboosting {0.7834123222748816, 0.6936914173565726, 0.49566724436741766}\n",
      "LogRegress2 {0.79478672985782, 0.7117866780624075, 0.5285961871750433}\n",
      "LogRegress1 {0.7943127962085308, 0.711460520202003, 0.5285961871750433}\n"
     ]
    }
   ],
   "source": [
    "print(\"Baseline Model prediction accuracy is :\" + str(1 - df.Churn.mean()))\n",
    "print(\"Baseline Model is what is achieved when all the data is predicted as No Churn\")\n",
    "print(\"\")\n",
    "\n",
    "print(kfold_perf)\n",
    "print(\"\")\n",
    "print(\"Accuracy\", \"AUC\", \"Sensitivity\")\n",
    "for pairs in train_test_perf.items():\n",
    "    print(pairs[0], pairs[1])"
   ]
  },
  {
   "cell_type": "code",
   "execution_count": 20,
   "metadata": {},
   "outputs": [],
   "source": [
    "rf_model = all_models[1][1]\n",
    "boost_model = all_models[2][1]\n",
    "log_model = all_models[3][1]\n",
    "rf_features = rf_model.feature_importances_\n",
    "boost_features = boost_model.feature_importances_\n",
    "log_features = log_model.coef_[0]"
   ]
  },
  {
   "cell_type": "code",
   "execution_count": 21,
   "metadata": {},
   "outputs": [
    {
     "name": "stdout",
     "output_type": "stream",
     "text": [
      "Significant values for Random Forest\n",
      "tenure 0.12015139107558008\n",
      "MonthlyCharges 0.14262436945098828\n",
      "TotalCharges 0.14273197194099474\n",
      "Contract_Month-to-month 0.06713165874476416\n",
      " \n",
      "Significant values for Boosting\n",
      "tenure 0.11\n",
      "MonthlyCharges 0.27\n",
      "TotalCharges 0.41\n",
      " \n",
      "Significant values for Logistic Regression\n",
      "Contract_Month-to-month 0.9985440129602221\n",
      "Contract_Two year -1.2322914753790433\n"
     ]
    }
   ],
   "source": [
    "print(\"Significant values for Random Forest\")\n",
    "for i in range(len(rf_features)):\n",
    "    if rf_features[i] > 0.05:\n",
    "        print(variables[i], rf_features[i])\n",
    "\n",
    "print(\" \")\n",
    "print(\"Significant values for Boosting\")\n",
    "for i in range(len(boost_features)):\n",
    "    if boost_features[i] > 0.03:\n",
    "        print(variables[i], boost_features[i])\n",
    "\n",
    "print(\" \")\n",
    "print(\"Significant values for Logistic Regression\")\n",
    "for i in range(len(log_features)):\n",
    "    if log_features[i] > 0.6 or log_features[i] < -0.6:\n",
    "        print(variables[i], log_features[i])"
   ]
  },
  {
   "cell_type": "markdown",
   "metadata": {},
   "source": [
    "Other data that might be useful\n",
    "1. Timeline of customer churn to detect any anomalies. Perhaps other companies (like Singapore's Circles Life) might give good offers all of a sudden, which could entice other customers to churn.\n",
    "2. Time other telcos entered.\n",
    "3. More information about the deal plans. How much data they got. This would be useful as a gauge to how cheap the phone is.\n",
    "4. The nature of the contract. Individual, is it under corporate insurance etc.\n",
    "5. Specific age group of the individual. Youngsters may change frequently depending on deals, adults may stick to corporate plans under their company, and perhaps senior citizens could be covered under similar corporate plans as well.\n",
    "6. Complaints information. Has the customer complained before?"
   ]
  }
 ],
 "metadata": {
  "kernelspec": {
   "display_name": "Python 3",
   "language": "python",
   "name": "python3"
  },
  "language_info": {
   "codemirror_mode": {
    "name": "ipython",
    "version": 3
   },
   "file_extension": ".py",
   "mimetype": "text/x-python",
   "name": "python",
   "nbconvert_exporter": "python",
   "pygments_lexer": "ipython3",
   "version": "3.6.6"
  }
 },
 "nbformat": 4,
 "nbformat_minor": 2
}
